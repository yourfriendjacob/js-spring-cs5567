{
  "metadata": {
    "kernelspec": {
      "language": "python",
      "display_name": "Python 3",
      "name": "python3"
    },
    "language_info": {
      "name": "python",
      "version": "3.7.10",
      "mimetype": "text/x-python",
      "codemirror_mode": {
        "name": "ipython",
        "version": 3
      },
      "pygments_lexer": "ipython3",
      "nbconvert_exporter": "python",
      "file_extension": ".py"
    },
    "kaggle": {
      "accelerator": "gpu",
      "dataSources": [],
      "dockerImageVersionId": 30121,
      "isInternetEnabled": true,
      "language": "python",
      "sourceType": "notebook",
      "isGpuEnabled": true
    },
    "colab": {
      "provenance": []
    }
  },
  "nbformat_minor": 0,
  "nbformat": 4,
  "cells": [
    {
      "cell_type": "markdown",
      "source": [
        "## Using Resnet50 for Transfer Learning and classify the Cifar - 100 data\n",
        "\n",
        "### The CIFAR-10 dataset consists of 60000 32x32 colour images in 10 classes, with 6000 images per class. There are 50000 training images and 10000 test images"
      ],
      "metadata": {
        "id": "N61iVtBfWtTe"
      }
    },
    {
      "cell_type": "markdown",
      "source": [
        "## Importing Libraries"
      ],
      "metadata": {
        "id": "OiHGXmcsgY3Q"
      }
    },
    {
      "cell_type": "code",
      "source": [
        "import numpy as np\n",
        "import matplotlib.pyplot as plt\n",
        "import seaborn as sns\n",
        "import tensorflow as tf\n",
        "from datetime import datetime\n",
        "from keras.preprocessing import image\n",
        "from tensorflow.keras.preprocessing.image import ImageDataGenerator\n",
        "from tensorflow.keras.layers import Dense, Flatten, Conv2D, UpSampling2D, Dropout,BatchNormalization,GlobalAveragePooling2D\n",
        "from sklearn.metrics import accuracy_score,confusion_matrix\n",
        "from sklearn.model_selection import train_test_split\n",
        "from keras.utils.np_utils import to_categorical\n",
        "\n"
      ],
      "metadata": {
        "id": "O1XtD8XZIJKy",
        "execution": {
          "iopub.status.busy": "2024-04-17T17:15:17.914216Z",
          "iopub.execute_input": "2024-04-17T17:15:17.914549Z",
          "iopub.status.idle": "2024-04-17T17:15:23.524439Z",
          "shell.execute_reply.started": "2024-04-17T17:15:17.914465Z",
          "shell.execute_reply": "2024-04-17T17:15:23.523658Z"
        },
        "trusted": true
      },
      "execution_count": null,
      "outputs": []
    },
    {
      "cell_type": "markdown",
      "source": [
        "## Importing the Cifar 100 Dataset"
      ],
      "metadata": {
        "id": "IHqIzFSow-_J"
      }
    },
    {
      "cell_type": "code",
      "source": [
        "cifar100 = tf.keras.datasets.cifar100\n",
        "(X_train, Y_train), (X_test,Y_test) = cifar100.load_data()"
      ],
      "metadata": {
        "id": "jeKSIMKZI3AV",
        "execution": {
          "iopub.status.busy": "2024-04-17T17:15:28.595454Z",
          "iopub.execute_input": "2024-04-17T17:15:28.595790Z",
          "iopub.status.idle": "2024-04-17T17:15:39.486017Z",
          "shell.execute_reply.started": "2024-04-17T17:15:28.595762Z",
          "shell.execute_reply": "2024-04-17T17:15:39.485256Z"
        },
        "trusted": true
      },
      "execution_count": null,
      "outputs": []
    },
    {
      "cell_type": "code",
      "source": [
        "\n",
        "def plot_acc_loss(result):\n",
        "  # function to plot the accuracy and loss graphs\n",
        "  acc = result.history['accuracy']\n",
        "  val_acc = result.history['val_accuracy']\n",
        "  loss = result.history['loss']\n",
        "  val_loss = result.history['val_loss']\n",
        "\n",
        "  plt.figure(figsize=(20, 10))\n",
        "  plt.subplot(1, 2, 1)\n",
        "  plt.title(\"Training and Validation Accuracy\")\n",
        "  plt.plot(acc,color = 'green',label = 'Training Acuracy')\n",
        "  plt.plot(val_acc,color = 'red',label = 'Validation Accuracy')\n",
        "  plt.legend(loc='lower right')\n",
        "  plt.ylabel('accuracy')\n",
        "  plt.xlabel('epoch')\n",
        "  plt.subplot(1, 2, 2)\n",
        "  plt.title('Training and Validation Loss')\n",
        "  plt.plot(loss,color = 'blue',label = 'Training Loss')\n",
        "  plt.plot(val_loss,color = 'purple',label = 'Validation Loss')\n",
        "  plt.ylabel('loss')\n",
        "  plt.xlabel('epoch')\n",
        "  plt.legend(loc='upper right')\n",
        "  plt.show()"
      ],
      "metadata": {
        "id": "V4fgoFWDC-BZ",
        "execution": {
          "iopub.status.busy": "2024-04-17T17:15:44.293327Z",
          "iopub.execute_input": "2024-04-17T17:15:44.293667Z",
          "iopub.status.idle": "2024-04-17T17:15:44.302020Z",
          "shell.execute_reply.started": "2024-04-17T17:15:44.293632Z",
          "shell.execute_reply": "2024-04-17T17:15:44.301062Z"
        },
        "trusted": true
      },
      "execution_count": null,
      "outputs": []
    },
    {
      "cell_type": "markdown",
      "source": [
        "##  Plotting some images from the dataset"
      ],
      "metadata": {
        "id": "cTMokHn1xHRx"
      }
    },
    {
      "cell_type": "code",
      "source": [
        "plt.figure(figsize=(12,12))\n",
        "for i in range(100):\n",
        "  plt.subplot(10,10,1+i)\n",
        "  plt.axis('off')\n",
        "  plt.imshow(X_train[i],cmap='gray')"
      ],
      "metadata": {
        "id": "XKpJLCTIJEQx",
        "execution": {
          "iopub.status.busy": "2024-04-17T17:15:48.608599Z",
          "iopub.execute_input": "2024-04-17T17:15:48.608960Z",
          "iopub.status.idle": "2024-04-17T17:15:52.974210Z",
          "shell.execute_reply.started": "2024-04-17T17:15:48.608926Z",
          "shell.execute_reply": "2024-04-17T17:15:52.973308Z"
        },
        "trusted": true
      },
      "execution_count": null,
      "outputs": []
    },
    {
      "cell_type": "markdown",
      "source": [
        "## Splitting the train data again - we use the val set as test set and previous test set for final predictions"
      ],
      "metadata": {
        "id": "NctbEpACxKTm"
      }
    },
    {
      "cell_type": "code",
      "source": [
        "x_train,x_val,y_train,y_val = train_test_split(X_train, Y_train, test_size = 0.2)"
      ],
      "metadata": {
        "id": "M1mcnM_uJETc",
        "execution": {
          "iopub.status.busy": "2024-04-17T17:15:58.528095Z",
          "iopub.execute_input": "2024-04-17T17:15:58.528471Z",
          "iopub.status.idle": "2024-04-17T17:15:58.589582Z",
          "shell.execute_reply.started": "2024-04-17T17:15:58.528439Z",
          "shell.execute_reply": "2024-04-17T17:15:58.588798Z"
        },
        "trusted": true
      },
      "execution_count": null,
      "outputs": []
    },
    {
      "cell_type": "markdown",
      "source": [
        "##  Onehot encoding of the outputs"
      ],
      "metadata": {
        "id": "QcrRB35GxcBZ"
      }
    },
    {
      "cell_type": "code",
      "source": [
        "y_train = to_categorical(y_train, num_classes = 100)\n",
        "y_val = to_categorical(y_val, num_classes = 100)\n",
        "y_test = to_categorical(Y_test, num_classes = 100)"
      ],
      "metadata": {
        "id": "PB2eFoqwJEV6",
        "execution": {
          "iopub.status.busy": "2024-04-17T17:16:03.271031Z",
          "iopub.execute_input": "2024-04-17T17:16:03.271450Z",
          "iopub.status.idle": "2024-04-17T17:16:03.291664Z",
          "shell.execute_reply.started": "2024-04-17T17:16:03.271413Z",
          "shell.execute_reply": "2024-04-17T17:16:03.290793Z"
        },
        "trusted": true
      },
      "execution_count": null,
      "outputs": []
    },
    {
      "cell_type": "code",
      "source": [
        "  x_train = x_train * 1.0/255\n",
        "\n",
        "  x_val = x_val * 1.0/255\n",
        "\n",
        "  X_test = X_test * 1.0/255"
      ],
      "metadata": {
        "id": "WGTFKlU_f98p",
        "execution": {
          "iopub.status.busy": "2024-04-17T17:16:11.009943Z",
          "iopub.execute_input": "2024-04-17T17:16:11.010304Z",
          "iopub.status.idle": "2024-04-17T17:16:11.578548Z",
          "shell.execute_reply.started": "2024-04-17T17:16:11.010270Z",
          "shell.execute_reply": "2024-04-17T17:16:11.577774Z"
        },
        "trusted": true
      },
      "execution_count": null,
      "outputs": []
    },
    {
      "cell_type": "code",
      "source": [
        "print(x_train.shape, x_val.shape, X_test.shape)\n",
        "print(y_train.shape, y_val.shape, y_test.shape)"
      ],
      "metadata": {
        "id": "i0h9nQvjJEYT",
        "execution": {
          "iopub.status.busy": "2024-04-17T17:16:16.115830Z",
          "iopub.execute_input": "2024-04-17T17:16:16.116152Z",
          "iopub.status.idle": "2024-04-17T17:16:16.121784Z",
          "shell.execute_reply.started": "2024-04-17T17:16:16.116116Z",
          "shell.execute_reply": "2024-04-17T17:16:16.120878Z"
        },
        "trusted": true
      },
      "execution_count": null,
      "outputs": []
    },
    {
      "cell_type": "markdown",
      "source": [
        "##  Image Data Augmentation"
      ],
      "metadata": {
        "id": "rhFrqZLjyrqo"
      }
    },
    {
      "cell_type": "code",
      "source": [
        "train_datagen = ImageDataGenerator(\n",
        "        rotation_range = 10,\n",
        "        zoom_range = 0.1,\n",
        "        width_shift_range = 0.1,\n",
        "        height_shift_range = 0.1,\n",
        "        shear_range = 0.1,\n",
        "        horizontal_flip = True,\n",
        "        vertical_flip = False\n",
        "        )\n",
        "train_datagen.fit(x_train)"
      ],
      "metadata": {
        "id": "rbf9fiWnJEaU",
        "execution": {
          "iopub.status.busy": "2024-04-17T17:16:27.247384Z",
          "iopub.execute_input": "2024-04-17T17:16:27.247724Z",
          "iopub.status.idle": "2024-04-17T17:16:27.613027Z",
          "shell.execute_reply.started": "2024-04-17T17:16:27.247697Z",
          "shell.execute_reply": "2024-04-17T17:16:27.612245Z"
        },
        "trusted": true
      },
      "execution_count": null,
      "outputs": []
    },
    {
      "cell_type": "markdown",
      "source": [
        "##  Reduce Learning Rate if accuracy is not improving for 3 epochs"
      ],
      "metadata": {
        "id": "XFKbqQaHyyXC"
      }
    },
    {
      "cell_type": "code",
      "source": [
        "from keras.callbacks import ReduceLROnPlateau\n",
        "learning_rate_reduction = ReduceLROnPlateau(\n",
        "    monitor='val_accuracy',\n",
        "    patience=3,\n",
        "    verbose=1,\n",
        "    factor=0.6,\n",
        "    min_lr=1e-6)"
      ],
      "metadata": {
        "id": "w1uFRv6zMF6x",
        "execution": {
          "iopub.status.busy": "2024-04-17T17:52:07.601804Z",
          "iopub.execute_input": "2024-04-17T17:52:07.602142Z",
          "iopub.status.idle": "2024-04-17T17:52:07.606711Z",
          "shell.execute_reply.started": "2024-04-17T17:52:07.602115Z",
          "shell.execute_reply": "2024-04-17T17:52:07.605699Z"
        },
        "trusted": true
      },
      "execution_count": null,
      "outputs": []
    },
    {
      "cell_type": "markdown",
      "source": [
        "##  Importing the Resnet Model"
      ],
      "metadata": {
        "id": "S2189qnjy6zP"
      }
    },
    {
      "cell_type": "code",
      "source": [
        "from tensorflow.keras.applications.resnet50 import ResNet50\n",
        "resnet_model = ResNet50(\n",
        "    include_top = False,\n",
        "    weights = 'imagenet',\n",
        "    input_shape = (224,224,3)\n",
        ")\n",
        "\n",
        "for layer in resnet_model.layers:\n",
        "    if isinstance(layer, BatchNormalization):\n",
        "        layer.trainable = True\n",
        "    else:\n",
        "        layer.trainable = False"
      ],
      "metadata": {
        "id": "2M48PlkBNTuo",
        "execution": {
          "iopub.status.busy": "2024-04-17T17:52:20.575947Z",
          "iopub.execute_input": "2024-04-17T17:52:20.576383Z",
          "iopub.status.idle": "2024-04-17T17:52:22.003269Z",
          "shell.execute_reply.started": "2024-04-17T17:52:20.576341Z",
          "shell.execute_reply": "2024-04-17T17:52:22.002258Z"
        },
        "trusted": true
      },
      "execution_count": null,
      "outputs": []
    },
    {
      "cell_type": "code",
      "source": [
        "resnet_model.summary()"
      ],
      "metadata": {
        "id": "aViZJpCjNYfS",
        "_kg_hide-output": true,
        "execution": {
          "iopub.status.busy": "2024-04-17T17:52:24.902858Z",
          "iopub.execute_input": "2024-04-17T17:52:24.903210Z",
          "iopub.status.idle": "2024-04-17T17:52:24.982612Z",
          "shell.execute_reply.started": "2024-04-17T17:52:24.903158Z",
          "shell.execute_reply": "2024-04-17T17:52:24.981754Z"
        },
        "trusted": true
      },
      "execution_count": null,
      "outputs": []
    },
    {
      "cell_type": "markdown",
      "source": [
        "##  Converting the output layer as per our dataset"
      ],
      "metadata": {
        "id": "RMPjDp1kzE45"
      }
    },
    {
      "cell_type": "code",
      "source": [
        "model=tf.keras.models.Sequential()\n",
        "model.add(UpSampling2D(size=(7, 7),interpolation='bilinear'))\n",
        "model.add(resnet_model)\n",
        "model.add(GlobalAveragePooling2D())\n",
        "model.add(Dropout(.25))\n",
        "model.add(Dense(256, activation='relu'))\n",
        "model.add(BatchNormalization())\n",
        "model.add(Dense(100, activation='softmax'))"
      ],
      "metadata": {
        "id": "zSCeSJUfMF9R",
        "execution": {
          "iopub.status.busy": "2024-04-17T17:52:32.483879Z",
          "iopub.execute_input": "2024-04-17T17:52:32.484258Z",
          "iopub.status.idle": "2024-04-17T17:52:32.513288Z",
          "shell.execute_reply.started": "2024-04-17T17:52:32.484223Z",
          "shell.execute_reply": "2024-04-17T17:52:32.512482Z"
        },
        "trusted": true
      },
      "execution_count": null,
      "outputs": []
    },
    {
      "cell_type": "markdown",
      "source": [
        "### **Issue** : The Cifar images are of the shape 32,32,3 and resnet model is trained on images of 224,224,3\n",
        "\n",
        "### *Solution* : Rezise Images - this is a costly operation and i eventually ran out of memory many a times\n",
        "\n",
        "### **Used Solution** : Keras provides an upsampling layer – called UpSampling2D – which allows to perform upsampling operation within neural networks\n",
        "* ### 32 * 7 = 224\n"
      ],
      "metadata": {
        "id": "Qh__WUyXM6-2"
      }
    },
    {
      "cell_type": "markdown",
      "source": [
        "### Stochastic gradient descent optimizer with momentum."
      ],
      "metadata": {
        "id": "I_FmcF7pM6-3"
      }
    },
    {
      "cell_type": "code",
      "source": [
        "optimizer = tf.keras.optimizers.SGD(learning_rate=1e-3, momentum=0.9)"
      ],
      "metadata": {
        "id": "2VeoRyqNQEy0",
        "execution": {
          "iopub.status.busy": "2024-04-17T17:52:53.514023Z",
          "iopub.execute_input": "2024-04-17T17:52:53.514462Z",
          "iopub.status.idle": "2024-04-17T17:52:53.519031Z",
          "shell.execute_reply.started": "2024-04-17T17:52:53.514412Z",
          "shell.execute_reply": "2024-04-17T17:52:53.518116Z"
        },
        "trusted": true
      },
      "execution_count": null,
      "outputs": []
    },
    {
      "cell_type": "markdown",
      "source": [
        "Compile the model"
      ],
      "metadata": {
        "id": "TkUlRnOVM6-3"
      }
    },
    {
      "cell_type": "code",
      "source": [
        "model.compile(\n",
        "    optimizer = optimizer,\n",
        "    loss='categorical_crossentropy',\n",
        "    metrics=['accuracy']\n",
        ")"
      ],
      "metadata": {
        "id": "FYHHAz26MF_m",
        "execution": {
          "iopub.status.busy": "2024-04-17T17:52:56.313751Z",
          "iopub.execute_input": "2024-04-17T17:52:56.314075Z",
          "iopub.status.idle": "2024-04-17T17:52:56.329847Z",
          "shell.execute_reply.started": "2024-04-17T17:52:56.314048Z",
          "shell.execute_reply": "2024-04-17T17:52:56.328944Z"
        },
        "trusted": true
      },
      "execution_count": null,
      "outputs": []
    },
    {
      "cell_type": "markdown",
      "source": [
        "We now Train the model on images. we are also checking to see if validation accuracy doesnt improve we will reduce learning rate though the callback"
      ],
      "metadata": {
        "id": "YOoUP0cpM6-3"
      }
    },
    {
      "cell_type": "code",
      "source": [
        "result=model.fit(\n",
        "    train_datagen.flow(x_train, y_train, batch_size = 64),\n",
        "    validation_data = (x_val, y_val),\n",
        "    epochs = 20,\n",
        "    verbose = 1,\n",
        "    callbacks = [learning_rate_reduction]\n",
        ")"
      ],
      "metadata": {
        "id": "kZx51cDFMGB9",
        "_kg_hide-input": true,
        "execution": {
          "iopub.status.busy": "2024-04-17T18:23:14.420992Z",
          "iopub.execute_input": "2024-04-17T18:23:14.421335Z",
          "iopub.status.idle": "2024-04-17T19:18:05.605508Z",
          "shell.execute_reply.started": "2024-04-17T18:23:14.421306Z",
          "shell.execute_reply": "2024-04-17T19:18:05.604712Z"
        },
        "trusted": true
      },
      "execution_count": null,
      "outputs": []
    },
    {
      "cell_type": "code",
      "source": [
        "model.summary()"
      ],
      "metadata": {
        "id": "qvbbVOuf_01Z",
        "_kg_hide-input": true,
        "execution": {
          "iopub.status.busy": "2024-04-17T17:50:04.757295Z",
          "iopub.execute_input": "2024-04-17T17:50:04.757550Z",
          "iopub.status.idle": "2024-04-17T17:50:04.780615Z",
          "shell.execute_reply.started": "2024-04-17T17:50:04.757525Z",
          "shell.execute_reply": "2024-04-17T17:50:04.779826Z"
        },
        "trusted": true
      },
      "execution_count": null,
      "outputs": []
    },
    {
      "cell_type": "markdown",
      "source": [
        "## Plot accuracy and Loss"
      ],
      "metadata": {
        "id": "85uBRuHk2sOK"
      }
    },
    {
      "cell_type": "code",
      "source": [
        "plot_acc_loss(result)\n"
      ],
      "metadata": {
        "id": "UvsRTJvFfkp-",
        "execution": {
          "iopub.status.busy": "2024-04-17T19:18:05.607148Z",
          "iopub.execute_input": "2024-04-17T19:18:05.607544Z",
          "iopub.status.idle": "2024-04-17T19:18:06.025115Z",
          "shell.execute_reply.started": "2024-04-17T19:18:05.607505Z",
          "shell.execute_reply": "2024-04-17T19:18:06.024253Z"
        },
        "trusted": true
      },
      "execution_count": null,
      "outputs": []
    },
    {
      "cell_type": "markdown",
      "source": [
        "## Predictions,Accuracy and Confusion Matrix\n",
        "### ** Requires modification for proper format **"
      ],
      "metadata": {
        "id": "vUfPT4IO2e7x"
      }
    },
    {
      "cell_type": "code",
      "source": [
        "y_pred = np.argmax(model.predict(X_test), axis=-1)\n",
        "y_true = Y_test.ravel()\n",
        "print(y_pred.shape,y_true.shape)\n"
      ],
      "metadata": {
        "execution": {
          "iopub.status.busy": "2024-04-17T19:18:06.027201Z",
          "iopub.execute_input": "2024-04-17T19:18:06.027588Z",
          "iopub.status.idle": "2024-04-17T19:18:22.988888Z",
          "shell.execute_reply.started": "2024-04-17T19:18:06.027546Z",
          "shell.execute_reply": "2024-04-17T19:18:22.987863Z"
        },
        "trusted": true,
        "id": "cmppQBFYM6-4"
      },
      "execution_count": null,
      "outputs": []
    },
    {
      "cell_type": "code",
      "source": [
        "print(\"Testing Accuracy: \", accuracy_score(y_true,y_pred))"
      ],
      "metadata": {
        "id": "klrk1IwUMGlx",
        "execution": {
          "iopub.status.busy": "2024-04-17T19:18:22.990517Z",
          "iopub.execute_input": "2024-04-17T19:18:22.990805Z",
          "iopub.status.idle": "2024-04-17T19:18:22.996815Z",
          "shell.execute_reply.started": "2024-04-17T19:18:22.990778Z",
          "shell.execute_reply": "2024-04-17T19:18:22.995924Z"
        },
        "trusted": true
      },
      "execution_count": null,
      "outputs": []
    },
    {
      "cell_type": "code",
      "source": [
        "cm = confusion_matrix(y_true,y_pred)\n",
        "cm"
      ],
      "metadata": {
        "id": "8e76RNwfn4SH",
        "_kg_hide-input": true,
        "execution": {
          "iopub.status.busy": "2024-04-17T19:18:23.053778Z",
          "iopub.execute_input": "2024-04-17T19:18:23.054091Z",
          "iopub.status.idle": "2024-04-17T19:18:23.078408Z",
          "shell.execute_reply.started": "2024-04-17T19:18:23.054060Z",
          "shell.execute_reply": "2024-04-17T19:18:23.077442Z"
        },
        "trusted": true
      },
      "execution_count": null,
      "outputs": []
    }
  ]
}