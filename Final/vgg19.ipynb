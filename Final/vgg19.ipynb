{
  "nbformat": 4,
  "nbformat_minor": 0,
  "metadata": {
    "colab": {
      "provenance": [],
      "machine_shape": "hm"
    },
    "kernelspec": {
      "name": "python3",
      "display_name": "Python 3"
    },
    "accelerator": "GPU"
  },
  "cells": [
    {
      "cell_type": "code",
      "metadata": {
        "id": "0Bnct8zrKB5d"
      },
      "source": [
        "# Keras, dataset, and VGG19 imports\n",
        "import keras\n",
        "from keras.datasets import cifar100\n",
        "from keras.applications import VGG19"
      ],
      "execution_count": null,
      "outputs": []
    },
    {
      "cell_type": "code",
      "metadata": {
        "id": "Qzgrir8eKNCG"
      },
      "source": [
        "# Loading VGG19 with imagenet weights\n",
        "from keras.layers import Input\n",
        "\n",
        "vgg19_model = VGG19(include_top = True, weights='imagenet')\n",
        "vgg19_model.summary()"
      ],
      "execution_count": null,
      "outputs": []
    },
    {
      "cell_type": "code",
      "metadata": {
        "id": "ORVBKL3ZK9iY"
      },
      "source": [
        "from keras.models import Sequential\n",
        "from keras.layers import Dense, Flatten, Dropout\n",
        "\n",
        "# define new empty model\n",
        "model = Sequential()\n",
        "\n",
        "# add all layers except output from VGG19 to new model\n",
        "for layer in vgg19_model.layers[:-1]:\n",
        "  model.add(layer)\n",
        "\n",
        "# freeze all weights\n",
        "for layer in model.layers:\n",
        "  layer.trainable = False\n",
        "\n",
        "# add dropout layer and new output layer\n",
        "model.add(Dropout(0.5))\n",
        "model.add(Dense(100, activation='softmax'))\n",
        "model.summary()"
      ],
      "execution_count": null,
      "outputs": []
    },
    {
      "cell_type": "code",
      "metadata": {
        "id": "Mf6xMqsALied"
      },
      "source": [
        "# load dataset\n",
        "(x_train, y_train) , (x_val, y_val) = cifar100.load_data()"
      ],
      "execution_count": null,
      "outputs": []
    },
    {
      "cell_type": "code",
      "metadata": {
        "id": "nJK0THJiKBEV"
      },
      "source": [
        "import numpy as np\n",
        "import cv2"
      ],
      "execution_count": null,
      "outputs": []
    },
    {
      "cell_type": "code",
      "metadata": {
        "id": "H-l6MANqLpZ4"
      },
      "source": [
        "import matplotlib.pyplot as plt\n",
        "\n",
        "NUM_CLASSES = 100\n",
        "\n",
        "# Onehot encode labels\n",
        "\n",
        "y_train = keras.utils.to_categorical(y_train, NUM_CLASSES)\n",
        "y_val = keras.utils.to_categorical(y_val, NUM_CLASSES)"
      ],
      "execution_count": null,
      "outputs": []
    },
    {
      "cell_type": "code",
      "metadata": {
        "id": "_JvtmtkbOalx"
      },
      "source": [
        "model.compile(optimizer=\"adam\", loss=\"categorical_crossentropy\", metrics=[\"categorical_accuracy\"])"
      ],
      "execution_count": null,
      "outputs": []
    },
    {
      "cell_type": "code",
      "metadata": {
        "id": "nhleQ_3SPpcp"
      },
      "source": [
        "# returns batch_size random samples from either training set or validation set\n",
        "# resizes each image to (224, 244, 3), the native input size for VGG19\n",
        "def getBatch(batch_size, train_or_val='train'):\n",
        "  x_batch = []\n",
        "  y_batch = []\n",
        "  if train_or_val == 'train':\n",
        "    idx = np.random.randint(0, len(x_train), (batch_size))\n",
        "\n",
        "    for i in idx:\n",
        "      img = cv2.resize(x_train[i], (224, 224), interpolation=cv2.INTER_CUBIC)\n",
        "      x_batch.append(img)\n",
        "      y_batch.append(y_train[i])\n",
        "  elif train_or_val == 'val':\n",
        "    idx = np.random.randint(0, len(x_val), (batch_size))\n",
        "\n",
        "    for i in idx:\n",
        "      img = cv2.resize(x_val[i], (224, 224), interpolation=cv2.INTER_CUBIC)\n",
        "      x_batch.append(img)\n",
        "      y_batch.append(y_val[i])\n",
        "  else:\n",
        "    print(\"error, please specify train or val\")\n",
        "\n",
        "  x_batch = np.array(x_batch)\n",
        "  y_batch = np.array(y_batch)\n",
        "  return x_batch, y_batch\n"
      ],
      "execution_count": null,
      "outputs": []
    },
    {
      "cell_type": "code",
      "metadata": {
        "id": "HA-GLuGEMMiq"
      },
      "source": [
        "EPOCHS = 10\n",
        "BATCH_SIZE = 128\n",
        "VAL_SIZE = 500\n",
        "STEPS = 50\n",
        "\n",
        "\n",
        "for e in range(EPOCHS):\n",
        "  train_loss = 0\n",
        "  train_acc = 0\n",
        "\n",
        "  for s in range(STEPS):\n",
        "    x_batch, y_batch = getBatch(BATCH_SIZE, \"train\")\n",
        "    out = model.train_on_batch(x_batch, y_batch)\n",
        "    train_loss += out[0]\n",
        "    train_acc += out[1]\n",
        "\n",
        "  print(f\"Epoch: {e}\\nTraining Loss = {train_loss / STEPS}\\tTraining Acc = {train_acc / STEPS}\")\n",
        "\n",
        "  x_v, y_v = getBatch(VAL_SIZE, \"val\")\n",
        "  eval = model.evaluate(x_v, y_v)\n",
        "  print(f\"Validation loss: {eval[0]}\\tValidation Acc: {eval[1]}\\n\")\n",
        "\n",
        "\n"
      ],
      "execution_count": null,
      "outputs": []
    },
    {
      "cell_type": "code",
      "source": [
        "x_v, y_v = getBatch(VAL_SIZE, \"val\")\n",
        "eval1 = model.evaluate(x_v, y_v)\n",
        "print(f\"Validation loss: {eval1[0]}\\tValidation Acc: {eval1[1]}\\n\")"
      ],
      "metadata": {
        "id": "zLlvvvzHorU6"
      },
      "execution_count": null,
      "outputs": []
    },
    {
      "cell_type": "code",
      "metadata": {
        "id": "7q6HdiH86AON"
      },
      "source": [
        "# Sample outputs from validation set\n",
        "CATEGORIES = [\n",
        "    \"apple\",\n",
        "    \"aquarium_fish\",\n",
        "    \"baby\",\n",
        "    \"bear\",\n",
        "    \"beaver\",\n",
        "    \"bed\",\n",
        "    \"bee\",\n",
        "    \"beetle\",\n",
        "    \"bicycle\",\n",
        "    \"bottle\",\n",
        "    \"bowl\",\n",
        "    \"boy\",\n",
        "    \"bridge\",\n",
        "    \"bus\",\n",
        "    \"butterfly\",\n",
        "    \"camel\",\n",
        "    \"can\",\n",
        "    \"castle\",\n",
        "    \"caterpillar\",\n",
        "    \"cattle\",\n",
        "    \"chair\",\n",
        "    \"chimpanzee\",\n",
        "    \"clock\",\n",
        "    \"cloud\",\n",
        "    \"cockroach\",\n",
        "    \"couch\",\n",
        "    \"crab\",\n",
        "    \"crocodile\",\n",
        "    \"cup\",\n",
        "    \"dinosaur\",\n",
        "    \"dolphin\",\n",
        "    \"elephant\",\n",
        "    \"flatfish\",\n",
        "    \"forest\",\n",
        "    \"fox\",\n",
        "    \"girl\",\n",
        "    \"hamster\",\n",
        "    \"house\",\n",
        "    \"kangaroo\",\n",
        "    \"keyboard\",\n",
        "    \"lamp\",\n",
        "    \"lawn_mower\",\n",
        "    \"leopard\",\n",
        "    \"lion\",\n",
        "    \"lizard\",\n",
        "    \"lobster\",\n",
        "    \"man\",\n",
        "    \"maple_tree\",\n",
        "    \"motorcycle\",\n",
        "    \"mountain\",\n",
        "    \"mouse\",\n",
        "    \"mushroom\",\n",
        "    \"oak_tree\",\n",
        "    \"orange\",\n",
        "    \"orchid\",\n",
        "    \"otter\",\n",
        "    \"palm_tree\",\n",
        "    \"pear\",\n",
        "    \"pickup_truck\",\n",
        "    \"pine_tree\",\n",
        "    \"plain\",\n",
        "    \"plate\",\n",
        "    \"poppy\",\n",
        "    \"porcupine\",\n",
        "    \"possum\",\n",
        "    \"rabbit\",\n",
        "    \"raccoon\",\n",
        "    \"ray\",\n",
        "    \"road\",\n",
        "    \"rocket\",\n",
        "    \"rose\",\n",
        "    \"sea\",\n",
        "    \"seal\",\n",
        "    \"shark\",\n",
        "    \"shrew\",\n",
        "    \"skunk\",\n",
        "    \"skyscraper\",\n",
        "    \"snail\",\n",
        "    \"snake\",\n",
        "    \"spider\",\n",
        "    \"squirrel\",\n",
        "    \"streetcar\",\n",
        "    \"sunflower\",\n",
        "    \"sweet_pepper\",\n",
        "    \"table\",\n",
        "    \"tank\",\n",
        "    \"telephone\",\n",
        "    \"television\",\n",
        "    \"tiger\",\n",
        "    \"tractor\",\n",
        "    \"train\",\n",
        "    \"trout\",\n",
        "    \"tulip\",\n",
        "    \"turtle\",\n",
        "    \"wardrobe\",\n",
        "    \"whale\",\n",
        "    \"willow_tree\",\n",
        "    \"wolf\",\n",
        "    \"woman\",\n",
        "    \"worm\"\n",
        "]\n",
        "\n",
        "import matplotlib.pyplot as plt\n",
        "\n",
        "x_v, y_v = getBatch(10, \"val\")\n",
        "\n",
        "for i in range(10):\n",
        "\n",
        "  import numpy as np\n",
        "  plt.imshow(x_v[i])\n",
        "  plt.show()\n",
        "  print(\"pred: \" +  CATEGORIES[np.argmax(model.predict(x_v[i:i+1]))])\n",
        "  print(\"acct: \" + CATEGORIES[np.argmax(y_v[i])])\n",
        "\n",
        "\n",
        "\n"
      ],
      "execution_count": null,
      "outputs": []
    }
  ]
}