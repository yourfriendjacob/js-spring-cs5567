{
  "metadata": {
    "kernelspec": {
      "language": "python",
      "display_name": "Python 3",
      "name": "python3"
    },
    "language_info": {
      "name": "python",
      "version": "3.10.12",
      "mimetype": "text/x-python",
      "codemirror_mode": {
        "name": "ipython",
        "version": 3
      },
      "pygments_lexer": "ipython3",
      "nbconvert_exporter": "python",
      "file_extension": ".py"
    },
    "kaggle": {
      "accelerator": "none",
      "dataSources": [
        {
          "sourceId": 2903151,
          "sourceType": "datasetVersion",
          "datasetId": 786319
        }
      ],
      "dockerImageVersionId": 30527,
      "isInternetEnabled": true,
      "language": "python",
      "sourceType": "notebook",
      "isGpuEnabled": false
    },
    "colab": {
      "provenance": []
    }
  },
  "nbformat_minor": 0,
  "nbformat": 4,
  "cells": [
    {
      "cell_type": "markdown",
      "source": [
        "# <p style=\"font-family:JetBrains Mono; font-weight:bold; letter-spacing: 2px; color:#9c7606; font-size:140%; text-align:left;padding: 10px; border-bottom: 2px solid #f79a05\"> Import Libraries</p>"
      ],
      "metadata": {
        "id": "L7pYcCoBFsBB"
      }
    },
    {
      "cell_type": "code",
      "source": [
        "import numpy as np\n",
        "import pandas as pd\n",
        "import cv2\n",
        "\n",
        "from sklearn.utils import shuffle\n",
        "from matplotlib.patches import Rectangle\n",
        "import matplotlib.pyplot as plt\n",
        "\n",
        "import warnings\n",
        "\n",
        "warnings.simplefilter('ignore')"
      ],
      "metadata": {
        "execution": {
          "iopub.status.busy": "2024-04-24T06:41:35.572357Z",
          "iopub.execute_input": "2024-04-24T06:41:35.572918Z",
          "iopub.status.idle": "2024-04-24T06:41:35.581545Z",
          "shell.execute_reply.started": "2024-04-24T06:41:35.572850Z",
          "shell.execute_reply": "2024-04-24T06:41:35.580088Z"
        },
        "trusted": true,
        "id": "NH--_l9dFsBB"
      },
      "execution_count": null,
      "outputs": []
    },
    {
      "cell_type": "markdown",
      "source": [
        "### <p style=\"font-family:JetBrains Mono; font-weight:bold; letter-spacing: 2px; color:#9c7606; font-size:140%; text-align:left;padding: 10px; border-bottom: 2px solid #f79a05\"> Load data</p>"
      ],
      "metadata": {
        "id": "tScaCZwhFsBB"
      }
    },
    {
      "cell_type": "code",
      "source": [
        "df = pd.read_csv('../input/self-driving-cars/labels_train.csv')\n",
        "df = shuffle(df)\n",
        "df.head()"
      ],
      "metadata": {
        "execution": {
          "iopub.status.busy": "2024-04-24T06:41:35.589465Z",
          "iopub.execute_input": "2024-04-24T06:41:35.590497Z",
          "iopub.status.idle": "2024-04-24T06:41:35.774168Z",
          "shell.execute_reply.started": "2024-04-24T06:41:35.590451Z",
          "shell.execute_reply": "2024-04-24T06:41:35.772936Z"
        },
        "trusted": true,
        "id": "XodCqQSTFsBB"
      },
      "execution_count": null,
      "outputs": []
    },
    {
      "cell_type": "markdown",
      "source": [
        "<div style=\"border-radius:10px; border:#f79a05 solid; padding: 15px; background-color: #f5d77f; font-size:100%; text-align:left\">\n",
        "    \n",
        " * This dataset is mostly a practice and training aspect for the subject of YOLO. The data is labeled with 5 classes.\n",
        " * classic_id labels: 'car', 'truck', 'pedestrian', 'bicyclist', 'light'"
      ],
      "metadata": {
        "id": "_fzsald_FsBC"
      }
    },
    {
      "cell_type": "code",
      "source": [
        "classes = df.class_id.unique()\n",
        "print(classes)"
      ],
      "metadata": {
        "execution": {
          "iopub.status.busy": "2024-04-24T06:41:35.777348Z",
          "iopub.execute_input": "2024-04-24T06:41:35.777810Z",
          "iopub.status.idle": "2024-04-24T06:41:35.788911Z",
          "shell.execute_reply.started": "2024-04-24T06:41:35.777766Z",
          "shell.execute_reply": "2024-04-24T06:41:35.787609Z"
        },
        "trusted": true,
        "id": "8xp04mcbFsBC"
      },
      "execution_count": null,
      "outputs": []
    },
    {
      "cell_type": "code",
      "source": [
        "labels = { 1:'car', 2:'truck', 3:'person', 4:'bicycle', 5:'traffic light'}"
      ],
      "metadata": {
        "execution": {
          "iopub.status.busy": "2024-04-24T06:41:35.790578Z",
          "iopub.execute_input": "2024-04-24T06:41:35.793182Z",
          "iopub.status.idle": "2024-04-24T06:41:35.800157Z",
          "shell.execute_reply.started": "2024-04-24T06:41:35.793126Z",
          "shell.execute_reply": "2024-04-24T06:41:35.798436Z"
        },
        "trusted": true,
        "id": "0Jjueu37FsBC"
      },
      "execution_count": null,
      "outputs": []
    },
    {
      "cell_type": "markdown",
      "source": [
        "# <p style=\"font-family:JetBrains Mono; font-weight:bold; letter-spacing: 2px; color:#9c7606; font-size:140%; text-align:left;padding: 10px; border-bottom: 2px solid #f79a05\"> Show some labeled images</p>"
      ],
      "metadata": {
        "id": "pM2fmUqzFsBC"
      }
    },
    {
      "cell_type": "code",
      "source": [
        "# Get path images and boxes (x,y) for each class_id\n",
        "boxes = {}\n",
        "images = {}\n",
        "\n",
        "base_path = '../input/self-driving-cars/images/'\n",
        "\n",
        "for class_id in classes:\n",
        "    first_row = df[df['class_id'] == class_id].iloc[0]\n",
        "\n",
        "    images[class_id] = cv2.imread(base_path + first_row['frame'])\n",
        "    boxes[class_id] = [first_row['xmin'],first_row['xmax'],first_row['ymin'],first_row['ymax']]"
      ],
      "metadata": {
        "execution": {
          "iopub.status.busy": "2024-04-24T06:41:35.801746Z",
          "iopub.execute_input": "2024-04-24T06:41:35.802497Z",
          "iopub.status.idle": "2024-04-24T06:41:35.932022Z",
          "shell.execute_reply.started": "2024-04-24T06:41:35.802463Z",
          "shell.execute_reply": "2024-04-24T06:41:35.930925Z"
        },
        "trusted": true,
        "id": "UYspAEPiFsBC"
      },
      "execution_count": null,
      "outputs": []
    },
    {
      "cell_type": "code",
      "source": [
        "for i in classes:\n",
        "\n",
        "    xmin, xmax, ymin, ymax = boxes[i][0], boxes[i][1], boxes[i][2], boxes[i][3]\n",
        "\n",
        "    plt.figure(figsize=(8, 10))\n",
        "    plt.title(\"Label \" + labels[i])\n",
        "    plt.imshow(images[i])\n",
        "    plt.gca().add_patch(plt.Rectangle((xmin, ymin), xmax-xmin, ymax-ymin, color='yellow', fill=False, linewidth=2))\n",
        "\n",
        "    plt.show()"
      ],
      "metadata": {
        "execution": {
          "iopub.status.busy": "2024-04-24T06:41:35.935704Z",
          "iopub.execute_input": "2024-04-24T06:41:35.936078Z",
          "iopub.status.idle": "2024-04-24T06:41:38.243353Z",
          "shell.execute_reply.started": "2024-04-24T06:41:35.936045Z",
          "shell.execute_reply": "2024-04-24T06:41:38.241962Z"
        },
        "trusted": true,
        "id": "euaEcsqKFsBC"
      },
      "execution_count": null,
      "outputs": []
    },
    {
      "cell_type": "markdown",
      "source": [
        "# <p style=\"font-family:JetBrains Mono; font-weight:bold; letter-spacing: 2px; color:#9c7606; font-size:140%; text-align:left;padding: 10px; border-bottom: 2px solid #f79a05\"> Model</p>"
      ],
      "metadata": {
        "id": "mpCp1zQbFsBC"
      }
    },
    {
      "cell_type": "code",
      "source": [
        "!pip install ultralytics"
      ],
      "metadata": {
        "_kg_hide-input": false,
        "_kg_hide-output": true,
        "execution": {
          "iopub.status.busy": "2024-04-24T06:41:38.245130Z",
          "iopub.execute_input": "2024-04-24T06:41:38.245584Z",
          "iopub.status.idle": "2024-04-24T06:41:55.608760Z",
          "shell.execute_reply.started": "2024-04-24T06:41:38.245545Z",
          "shell.execute_reply": "2024-04-24T06:41:55.607121Z"
        },
        "trusted": true,
        "id": "zsqd4BlLFsBC"
      },
      "execution_count": null,
      "outputs": []
    },
    {
      "cell_type": "code",
      "source": [
        "from ultralytics import YOLO\n",
        "import PIL\n",
        "from PIL import Image\n",
        "from IPython.display import display\n",
        "import os\n",
        "import pathlib"
      ],
      "metadata": {
        "execution": {
          "iopub.status.busy": "2024-04-24T06:41:55.610972Z",
          "iopub.execute_input": "2024-04-24T06:41:55.611467Z",
          "iopub.status.idle": "2024-04-24T06:41:59.265212Z",
          "shell.execute_reply.started": "2024-04-24T06:41:55.611418Z",
          "shell.execute_reply": "2024-04-24T06:41:59.263923Z"
        },
        "trusted": true,
        "id": "ar2S6R6OFsBC"
      },
      "execution_count": null,
      "outputs": []
    },
    {
      "cell_type": "code",
      "source": [
        "model = YOLO(\"yolov8m.pt\")"
      ],
      "metadata": {
        "execution": {
          "iopub.status.busy": "2024-04-24T06:41:59.266439Z",
          "iopub.execute_input": "2024-04-24T06:41:59.267237Z",
          "iopub.status.idle": "2024-04-24T06:42:00.213735Z",
          "shell.execute_reply.started": "2024-04-24T06:41:59.267197Z",
          "shell.execute_reply": "2024-04-24T06:42:00.212389Z"
        },
        "trusted": true,
        "id": "bHlHYkBMFsBD"
      },
      "execution_count": null,
      "outputs": []
    },
    {
      "cell_type": "code",
      "source": [
        "results=model.predict(source=\"/kaggle/input/self-driving-cars/images/1478019956680248165.jpg\",\n",
        "              save=True, conf=0.2,iou=0.5)"
      ],
      "metadata": {
        "execution": {
          "iopub.status.busy": "2024-04-24T06:42:00.215252Z",
          "iopub.execute_input": "2024-04-24T06:42:00.215619Z",
          "iopub.status.idle": "2024-04-24T06:42:03.443351Z",
          "shell.execute_reply.started": "2024-04-24T06:42:00.215587Z",
          "shell.execute_reply": "2024-04-24T06:42:03.442081Z"
        },
        "trusted": true,
        "id": "Z7baA3CRFsBD"
      },
      "execution_count": null,
      "outputs": []
    },
    {
      "cell_type": "code",
      "source": [
        "result = results[0]\n",
        "box = result.boxes[0]"
      ],
      "metadata": {
        "execution": {
          "iopub.status.busy": "2024-04-24T06:42:03.444822Z",
          "iopub.execute_input": "2024-04-24T06:42:03.445191Z",
          "iopub.status.idle": "2024-04-24T06:42:03.452138Z",
          "shell.execute_reply.started": "2024-04-24T06:42:03.445160Z",
          "shell.execute_reply": "2024-04-24T06:42:03.450792Z"
        },
        "trusted": true,
        "id": "QYMtsePFFsBD"
      },
      "execution_count": null,
      "outputs": []
    },
    {
      "cell_type": "code",
      "source": [
        "for result in results:\n",
        "    boxes = result.boxes  # Boxes object for bbox outputs\n",
        "    masks = result.masks  # Masks object for segmentation masks outputs\n",
        "    probs = result.probs  # Class probabilities for classification outputs"
      ],
      "metadata": {
        "execution": {
          "iopub.status.busy": "2024-04-24T06:42:03.454126Z",
          "iopub.execute_input": "2024-04-24T06:42:03.454609Z",
          "iopub.status.idle": "2024-04-24T06:42:03.467246Z",
          "shell.execute_reply.started": "2024-04-24T06:42:03.454563Z",
          "shell.execute_reply": "2024-04-24T06:42:03.465990Z"
        },
        "trusted": true,
        "id": "kpXNtRp-FsBD"
      },
      "execution_count": null,
      "outputs": []
    },
    {
      "cell_type": "code",
      "source": [
        "cords = box.xyxy[0].tolist()\n",
        "class_id = box.cls[0].item()\n",
        "conf = box.conf[0].item()\n",
        "print(\"Object type:\", class_id)\n",
        "print(\"Coordinates:\", cords)\n",
        "print(\"Probability:\", conf)"
      ],
      "metadata": {
        "execution": {
          "iopub.status.busy": "2024-04-24T06:42:03.468635Z",
          "iopub.execute_input": "2024-04-24T06:42:03.469086Z",
          "iopub.status.idle": "2024-04-24T06:42:03.486292Z",
          "shell.execute_reply.started": "2024-04-24T06:42:03.469038Z",
          "shell.execute_reply": "2024-04-24T06:42:03.484785Z"
        },
        "trusted": true,
        "id": "t4N4t9qJFsBD"
      },
      "execution_count": null,
      "outputs": []
    },
    {
      "cell_type": "code",
      "source": [
        "for box in result.boxes:\n",
        "    class_id = result.names[box.cls[0].item()]\n",
        "    cords = box.xyxy[0].tolist()\n",
        "    cords = [round(x) for x in cords]\n",
        "    conf = round(box.conf[0].item(), 2)\n",
        "    print(\"Object type:\", class_id)\n",
        "    print(\"Coordinates:\", cords)\n",
        "    print(\"Probability:\", conf)\n",
        "    print(\"---\")"
      ],
      "metadata": {
        "execution": {
          "iopub.status.busy": "2024-04-24T06:42:03.487870Z",
          "iopub.execute_input": "2024-04-24T06:42:03.488263Z",
          "iopub.status.idle": "2024-04-24T06:42:03.508730Z",
          "shell.execute_reply.started": "2024-04-24T06:42:03.488229Z",
          "shell.execute_reply": "2024-04-24T06:42:03.507321Z"
        },
        "trusted": true,
        "id": "myl8e_SeFsBD"
      },
      "execution_count": null,
      "outputs": []
    },
    {
      "cell_type": "code",
      "source": [
        "results1 = model.predict(source=\"/kaggle/input/self-driving-cars/images/1478020211690815798.jpg\",\n",
        "              save=True, conf=0.2,iou=0.5)\n",
        "\n",
        "Results = results1[0]"
      ],
      "metadata": {
        "execution": {
          "iopub.status.busy": "2024-04-24T06:42:03.514093Z",
          "iopub.execute_input": "2024-04-24T06:42:03.514509Z",
          "iopub.status.idle": "2024-04-24T06:42:04.107270Z",
          "shell.execute_reply.started": "2024-04-24T06:42:03.514476Z",
          "shell.execute_reply": "2024-04-24T06:42:04.106094Z"
        },
        "trusted": true,
        "id": "5OjxBrdgFsBD"
      },
      "execution_count": null,
      "outputs": []
    },
    {
      "cell_type": "code",
      "source": [
        "# Plotting results\n",
        "plot = results1[0].plot()\n",
        "plot = cv2.cvtColor(plot, cv2.COLOR_BGR2RGB)\n",
        "display(Image.fromarray(plot))"
      ],
      "metadata": {
        "execution": {
          "iopub.status.busy": "2024-04-24T06:42:04.108874Z",
          "iopub.execute_input": "2024-04-24T06:42:04.109341Z",
          "iopub.status.idle": "2024-04-24T06:42:04.176553Z",
          "shell.execute_reply.started": "2024-04-24T06:42:04.109296Z",
          "shell.execute_reply": "2024-04-24T06:42:04.174331Z"
        },
        "trusted": true,
        "id": "iAiUWYawFsBD"
      },
      "execution_count": null,
      "outputs": []
    }
  ]
}